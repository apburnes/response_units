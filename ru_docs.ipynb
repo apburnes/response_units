{
 "metadata": {
  "name": "ru_docs"
 },
 "nbformat": 3,
 "nbformat_minor": 0,
 "worksheets": [
  {
   "cells": [
    {
     "cell_type": "markdown",
     "metadata": {},
     "source": [
      "#Building, Testing, and Automating Ecological Response Units#"
     ]
    },
    {
     "cell_type": "markdown",
     "metadata": {},
     "source": [
      "** Rangeland inventory, planning, and conservation **\n",
      "\n",
      "  For rangeland conservation, effective range mangement creates sustainable cattle ranching by providing appropriate vegation with recuring growth to feed cattle herds and prevent soil erosion.  This proccess is a series of sequential steps across multiple years and growing seasons; the first steps within the integrated management process involves identifing possible soil and plant communities.  By pre-mapping unique areas across a ranch, the rangeland conservationist creates a plan of action for field collection and plant/soil inventory which will serve as a baseline for all future planning and monitory in the process.\n",
      "  \n",
      "\n",
      "The goal is to produce a pre-mapping layer known as the \"response units\"(ru) which will serve to expedite the field collection/inventory by identifing the unique ecological sites within a ranch.  To produce the ru polygons, a series rasters will be stacked and segmented acording to similar values. These rasters are: SATV Vegatation Cover, Elevation, Slope, Precipitation, NHD Flowlines, and Water Flow Accumulation.  Once the data is segmented and converted to a vector polygons will be clustered according to the raster values to identify like polygons.  "
     ]
    },
    {
     "cell_type": "markdown",
     "metadata": {},
     "source": [
      "_Import to necessary Python Modules_"
     ]
    },
    {
     "cell_type": "code",
     "collapsed": false,
     "input": [
      "import numpy as np\n",
      "import pandas as pd\n",
      "from osgeo import gdal, ogr\n",
      "import os"
     ],
     "language": "python",
     "metadata": {},
     "outputs": [],
     "prompt_number": 6
    },
    {
     "cell_type": "code",
     "collapsed": false,
     "input": [
      "%%bash\n",
      "ls"
     ],
     "language": "python",
     "metadata": {},
     "outputs": [
      {
       "output_type": "stream",
       "stream": "stdout",
       "text": [
        "code\n",
        "data\n",
        "img\n",
        "README.md\n",
        "ru_docs.ipynb\n"
       ]
      }
     ],
     "prompt_number": 9
    },
    {
     "cell_type": "code",
     "collapsed": false,
     "input": [],
     "language": "python",
     "metadata": {},
     "outputs": [],
     "prompt_number": 7
    }
   ],
   "metadata": {}
  }
 ]
}