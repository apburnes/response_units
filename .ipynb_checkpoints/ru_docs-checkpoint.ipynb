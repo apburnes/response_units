{
 "metadata": {
  "name": "ru_docs"
 },
 "nbformat": 3,
 "nbformat_minor": 0,
 "worksheets": [
  {
   "cells": [
    {
     "cell_type": "markdown",
     "metadata": {},
     "source": [
      "#Building, Testing, and Automating Ecological Response Units#"
     ]
    },
    {
     "cell_type": "markdown",
     "metadata": {},
     "source": [
      "** Rangeland inventory, planning, and conservation **\n",
      "\n",
      "  For rangeland conservation, effective range mangement creates sustainable cattle ranching by providing appropriate vegation with recuring growth to feed cattle herds and prevent soil erosion.  This proccess is a series of sequential steps across multiple years and growing seasons; the first steps within the integrated management process involves identifing possible soil and plant communities.  By pre-mapping unique areas across a ranch, the rangeland conservationist creates a plan of action for field collection and plant/soil inventory which will serve as a baseline for all future planning and monitory in the process.\n",
      "  \n",
      "\n",
      "The goal is to produce a pre-mapping layer known as the \"response units\"(ru) which will serve to expedite the field collection/inventory by identifing the unique ecological sites within a ranch.  To produce the ru polygons, a series rasters will be stacked and segmented acording to similar values. These rasters are: SATV Vegatation Cover, Elevation, Slope, Precipitation, NHD Flowlines, and Water Flow Accumulation.  Once the data is segmented and converted to a vector polygons will be clustered according to the raster values to identify like polygons.  "
     ]
    },
    {
     "cell_type": "markdown",
     "metadata": {},
     "source": [
      "</br>\n",
      "_Import all of the modules we will need to beging experimenting with the raster and vector data_"
     ]
    },
    {
     "cell_type": "code",
     "collapsed": false,
     "input": [
      "\"\"\" Handle Raster Data for Overlay and Segmentation \"\"\"\n",
      "\n",
      "#Import modules\n",
      "import numpy as np\n",
      "from numpy import ma\n",
      "import pysal as ps\n",
      "from numpy.random import randn\n",
      "import pandas as pd\n",
      "import matplotlib.pyplot as plt\n",
      "from osgeo import gdal, ogr\n",
      "from osgeo.gdalconst import *\n",
      "import os, sys, time\n",
      "sys.path.append('./code')\n"
     ],
     "language": "python",
     "metadata": {},
     "outputs": [],
     "prompt_number": 4
    },
    {
     "cell_type": "markdown",
     "metadata": {},
     "source": [
      "</br>\n",
      "_Let's start by collecting all of the raster files used for the segmentation and plot for our reference_"
     ]
    },
    {
     "cell_type": "code",
     "collapsed": false,
     "input": [
      "#Start timing\n",
      "start_time = time.time()\n",
      "\n",
      "#set raster directory\n",
      "data_dir = os.path.dirname('./data/')\n",
      "\n",
      "#Setting empty list for raster file names to be appended to\n",
      "data_list = []\n",
      "\n",
      "for data in os.listdir(data_dir):\n",
      "    if data.endswith('.tif'):\n",
      "        data_list.append(data)\n",
      "\n",
      "list_len = len(data_list)\n",
      "list_len_sqrt = np.sqrt(list_len)\n",
      "plot_dim = int(np.ceil(list_len_sqrt)) \n",
      "\n",
      "#Empty array to be filled by gdal rasters from the data directory\n",
      "tif_list = []\n",
      "proj_list = []\n",
      "geotrans_list = []\n",
      "\n",
      "for idx, data in enumerate(data_list):\n",
      "    \n",
      "    #Lets load the correct path and corresponding raster data\n",
      "    tif_load = os.path.join(data_dir + \"/\" + data)\n",
      "    tif = gdal.Open(tif_load)\n",
      "    if tif is None:\n",
      "        print 'Could not open any tif files'\n",
      "        break\n",
      "    tif_list.append(tif)\n",
      "    \n",
      "    #Print the raster properties for each in the directory\n",
      "    cols = tif.RasterXSize\n",
      "    rows = tif.RasterYSize\n",
      "    bands = tif.RasterCount\n",
      "    \n",
      "    print \"The raster %s is %s columns, %s rows, and %s bands\" % (data,cols,rows,bands)\n",
      "    \n",
      "    #Print the Geotransformation properties\n",
      "    geotrans = tif.GetGeoTransform()\n",
      "    proj = tif.GetProjection()\n",
      "    originX = geotrans[0]\n",
      "    originY = geotrans[3]\n",
      "    px_width = geotrans[1]\n",
      "    px_height = geotrans[5]\n",
      "    \n",
      "    #Append transformation and projection data\n",
      "    proj_list.append(proj)\n",
      "    geotrans_list.append(geotrans)\n",
      "\n",
      "    print \"Raster Projection: \" + proj.split('\"')[1]\n",
      "    print \"Origin Easting = \" + str(originX) + \" Origin Northing = \" + str(originY)\n",
      "    print \"Cell Width: \" + str(px_width) + 'm \\n' + \"Cell Height: \" + str(abs(px_height)) + \"m \\n\"\n",
      "    \n",
      "    #loop through coordinates\n",
      "    #for i in range(3):\n",
      "        #get x,y\n",
      "        #utm_e = xValues[i]\n",
      "        #utm_n = yValues[i]\n",
      "        \n",
      "        \n",
      "    \n",
      "    #Lets plot the rasters to view\n",
      "    tif_array = tif.ReadAsArray()\n",
      "    plot_num = idx + 1\n",
      "    plt.subplot(plot_dim, plot_dim, plot_num)\n",
      "    fig = plt.imshow(tif_array, interpolation='nearest')\n",
      "    fig.set_cmap('hsv')\n",
      "    plt.axis('off')\n",
      "    plt.title(data.split('.')[0])\n",
      "    plt.figsize(10,10)\n",
      "\n",
      "    \n",
      "#End timing\n",
      "end_time = time.time()\n",
      "print 'Total time = ' + str(end_time - start_time) + '\\n'\n",
      "\n",
      "\n",
      "#tif = gdal.Open(data)\n",
      "#tif_array = tif.ReadAsArray()\n",
      "#plt.imshow(tif_array)\n",
      "\n",
      "\n"
     ],
     "language": "python",
     "metadata": {},
     "outputs": [
      {
       "output_type": "stream",
       "stream": "stdout",
       "text": [
        "The raster cti.tif is 779 columns, 769 rows, and 1 bands\n",
        "Raster Projection: NAD_1983_UTM_Zone_12N\n",
        "Origin Easting = 515161.930339 Origin Northing = 3497481.33581\n",
        "Cell Width: 10.0m \n",
        "Cell Height: 10.0m \n",
        "\n",
        "The raster dem.tif is 779 columns, 769 rows, and 1 bands"
       ]
      },
      {
       "output_type": "stream",
       "stream": "stdout",
       "text": [
        "\n",
        "Raster Projection: NAD_1983_UTM_Zone_12N\n",
        "Origin Easting = 515161.930339 Origin Northing = 3497481.33581\n",
        "Cell Width: 10.0m \n",
        "Cell Height: 10.0m \n",
        "\n",
        "The raster fall_cvr.tif is 260 columns, 257 rows, and 1 bands"
       ]
      },
      {
       "output_type": "stream",
       "stream": "stdout",
       "text": [
        "\n",
        "Raster Projection: NAD_1983_UTM_Zone_12N\n",
        "Origin Easting = 515161.028511 Origin Northing = 3497489.99989\n",
        "Cell Width: 30.0m \n",
        "Cell Height: 30.0m \n",
        "\n",
        "The raster raster_stack.tif is 779 columns, 769 rows, and 5 bands"
       ]
      },
      {
       "ename": "TypeError",
       "evalue": "Invalid dimensions for image data",
       "output_type": "pyerr",
       "traceback": [
        "\u001b[1;31m---------------------------------------------------------------------------\u001b[0m\n\u001b[1;31mTypeError\u001b[0m                                 Traceback (most recent call last)",
        "\u001b[1;32m<ipython-input-5-e5e266c1eadd>\u001b[0m in \u001b[0;36m<module>\u001b[1;34m()\u001b[0m\n\u001b[0;32m     66\u001b[0m     \u001b[0mplot_num\u001b[0m \u001b[1;33m=\u001b[0m \u001b[0midx\u001b[0m \u001b[1;33m+\u001b[0m \u001b[1;36m1\u001b[0m\u001b[1;33m\u001b[0m\u001b[0m\n\u001b[0;32m     67\u001b[0m     \u001b[0mplt\u001b[0m\u001b[1;33m.\u001b[0m\u001b[0msubplot\u001b[0m\u001b[1;33m(\u001b[0m\u001b[0mplot_dim\u001b[0m\u001b[1;33m,\u001b[0m \u001b[0mplot_dim\u001b[0m\u001b[1;33m,\u001b[0m \u001b[0mplot_num\u001b[0m\u001b[1;33m)\u001b[0m\u001b[1;33m\u001b[0m\u001b[0m\n\u001b[1;32m---> 68\u001b[1;33m     \u001b[0mfig\u001b[0m \u001b[1;33m=\u001b[0m \u001b[0mplt\u001b[0m\u001b[1;33m.\u001b[0m\u001b[0mimshow\u001b[0m\u001b[1;33m(\u001b[0m\u001b[0mtif_array\u001b[0m\u001b[1;33m,\u001b[0m \u001b[0minterpolation\u001b[0m\u001b[1;33m=\u001b[0m\u001b[1;34m'nearest'\u001b[0m\u001b[1;33m)\u001b[0m\u001b[1;33m\u001b[0m\u001b[0m\n\u001b[0m\u001b[0;32m     69\u001b[0m     \u001b[0mfig\u001b[0m\u001b[1;33m.\u001b[0m\u001b[0mset_cmap\u001b[0m\u001b[1;33m(\u001b[0m\u001b[1;34m'hsv'\u001b[0m\u001b[1;33m)\u001b[0m\u001b[1;33m\u001b[0m\u001b[0m\n\u001b[0;32m     70\u001b[0m     \u001b[0mplt\u001b[0m\u001b[1;33m.\u001b[0m\u001b[0maxis\u001b[0m\u001b[1;33m(\u001b[0m\u001b[1;34m'off'\u001b[0m\u001b[1;33m)\u001b[0m\u001b[1;33m\u001b[0m\u001b[0m\n",
        "\u001b[1;32m/usr/lib/pymodules/python2.7/matplotlib/pyplot.pyc\u001b[0m in \u001b[0;36mimshow\u001b[1;34m(X, cmap, norm, aspect, interpolation, alpha, vmin, vmax, origin, extent, shape, filternorm, filterrad, imlim, resample, url, hold, **kwargs)\u001b[0m\n\u001b[0;32m   2375\u001b[0m         \u001b[0max\u001b[0m\u001b[1;33m.\u001b[0m\u001b[0mhold\u001b[0m\u001b[1;33m(\u001b[0m\u001b[0mhold\u001b[0m\u001b[1;33m)\u001b[0m\u001b[1;33m\u001b[0m\u001b[0m\n\u001b[0;32m   2376\u001b[0m     \u001b[1;32mtry\u001b[0m\u001b[1;33m:\u001b[0m\u001b[1;33m\u001b[0m\u001b[0m\n\u001b[1;32m-> 2377\u001b[1;33m         \u001b[0mret\u001b[0m \u001b[1;33m=\u001b[0m \u001b[0max\u001b[0m\u001b[1;33m.\u001b[0m\u001b[0mimshow\u001b[0m\u001b[1;33m(\u001b[0m\u001b[0mX\u001b[0m\u001b[1;33m,\u001b[0m \u001b[0mcmap\u001b[0m\u001b[1;33m,\u001b[0m \u001b[0mnorm\u001b[0m\u001b[1;33m,\u001b[0m \u001b[0maspect\u001b[0m\u001b[1;33m,\u001b[0m \u001b[0minterpolation\u001b[0m\u001b[1;33m,\u001b[0m \u001b[0malpha\u001b[0m\u001b[1;33m,\u001b[0m \u001b[0mvmin\u001b[0m\u001b[1;33m,\u001b[0m \u001b[0mvmax\u001b[0m\u001b[1;33m,\u001b[0m \u001b[0morigin\u001b[0m\u001b[1;33m,\u001b[0m \u001b[0mextent\u001b[0m\u001b[1;33m,\u001b[0m \u001b[0mshape\u001b[0m\u001b[1;33m,\u001b[0m \u001b[0mfilternorm\u001b[0m\u001b[1;33m,\u001b[0m \u001b[0mfilterrad\u001b[0m\u001b[1;33m,\u001b[0m \u001b[0mimlim\u001b[0m\u001b[1;33m,\u001b[0m \u001b[0mresample\u001b[0m\u001b[1;33m,\u001b[0m \u001b[0murl\u001b[0m\u001b[1;33m,\u001b[0m \u001b[1;33m**\u001b[0m\u001b[0mkwargs\u001b[0m\u001b[1;33m)\u001b[0m\u001b[1;33m\u001b[0m\u001b[0m\n\u001b[0m\u001b[0;32m   2378\u001b[0m         \u001b[0mdraw_if_interactive\u001b[0m\u001b[1;33m(\u001b[0m\u001b[1;33m)\u001b[0m\u001b[1;33m\u001b[0m\u001b[0m\n\u001b[0;32m   2379\u001b[0m     \u001b[1;32mfinally\u001b[0m\u001b[1;33m:\u001b[0m\u001b[1;33m\u001b[0m\u001b[0m\n",
        "\u001b[1;32m/usr/lib/pymodules/python2.7/matplotlib/axes.pyc\u001b[0m in \u001b[0;36mimshow\u001b[1;34m(self, X, cmap, norm, aspect, interpolation, alpha, vmin, vmax, origin, extent, shape, filternorm, filterrad, imlim, resample, url, **kwargs)\u001b[0m\n\u001b[0;32m   6794\u001b[0m                        filterrad=filterrad, resample=resample, **kwargs)\n\u001b[0;32m   6795\u001b[0m \u001b[1;33m\u001b[0m\u001b[0m\n\u001b[1;32m-> 6796\u001b[1;33m         \u001b[0mim\u001b[0m\u001b[1;33m.\u001b[0m\u001b[0mset_data\u001b[0m\u001b[1;33m(\u001b[0m\u001b[0mX\u001b[0m\u001b[1;33m)\u001b[0m\u001b[1;33m\u001b[0m\u001b[0m\n\u001b[0m\u001b[0;32m   6797\u001b[0m         \u001b[0mim\u001b[0m\u001b[1;33m.\u001b[0m\u001b[0mset_alpha\u001b[0m\u001b[1;33m(\u001b[0m\u001b[0malpha\u001b[0m\u001b[1;33m)\u001b[0m\u001b[1;33m\u001b[0m\u001b[0m\n\u001b[0;32m   6798\u001b[0m         \u001b[0mself\u001b[0m\u001b[1;33m.\u001b[0m\u001b[0m_set_artist_props\u001b[0m\u001b[1;33m(\u001b[0m\u001b[0mim\u001b[0m\u001b[1;33m)\u001b[0m\u001b[1;33m\u001b[0m\u001b[0m\n",
        "\u001b[1;32m/usr/lib/pymodules/python2.7/matplotlib/image.pyc\u001b[0m in \u001b[0;36mset_data\u001b[1;34m(self, A)\u001b[0m\n\u001b[0;32m    409\u001b[0m         if (self._A.ndim not in (2, 3) or\n\u001b[0;32m    410\u001b[0m             (self._A.ndim == 3 and self._A.shape[-1] not in (3, 4))):\n\u001b[1;32m--> 411\u001b[1;33m             \u001b[1;32mraise\u001b[0m \u001b[0mTypeError\u001b[0m\u001b[1;33m(\u001b[0m\u001b[1;34m\"Invalid dimensions for image data\"\u001b[0m\u001b[1;33m)\u001b[0m\u001b[1;33m\u001b[0m\u001b[0m\n\u001b[0m\u001b[0;32m    412\u001b[0m \u001b[1;33m\u001b[0m\u001b[0m\n\u001b[0;32m    413\u001b[0m         \u001b[0mself\u001b[0m\u001b[1;33m.\u001b[0m\u001b[0m_imcache\u001b[0m \u001b[1;33m=\u001b[0m\u001b[0mNone\u001b[0m\u001b[1;33m\u001b[0m\u001b[0m\n",
        "\u001b[1;31mTypeError\u001b[0m: Invalid dimensions for image data"
       ]
      },
      {
       "output_type": "stream",
       "stream": "stdout",
       "text": [
        "\n",
        "Raster Projection: NAD83 / UTM zone 12N\n",
        "Origin Easting = 515161.930339 Origin Northing = 3497481.33581\n",
        "Cell Width: 10.0m \n",
        "Cell Height: 10.0m \n",
        "\n"
       ]
      },
      {
       "metadata": {},
       "output_type": "display_data",
       "png": "[encoded data removed]",
       "text": [
        "<matplotlib.figure.Figure at 0xb441a0c>"
       ]
      }
     ],
     "prompt_number": 5
    },
    {
     "cell_type": "markdown",
     "metadata": {},
     "source": [
      "</br>\n",
      "_Let's stack all of the rasters by creating multiple bands to create the new raster_"
     ]
    },
    {
     "cell_type": "code",
     "collapsed": false,
     "input": [
      "start_time = time.time()\n",
      "\n",
      "#Set up the new raster with the desired properties \n",
      "raster_stack = './output/raster_stack.tif'\n",
      "\n",
      "FORMAT = 'GTiff'\n",
      "DATATYPE = gdal.GDT_Float32\n",
      "YSIZE = tif_list[0].RasterYSize\n",
      "XSIZE = tif_list[0].RasterXSize\n",
      "NBANDS = int(list_len)\n",
      "\n",
      "#Create new empty raster with set properties\n",
      "driver = gdal.GetDriverByName(FORMAT)\n",
      "out_raster = driver.Create(raster_stack, XSIZE, YSIZE, NBANDS, DATATYPE)\n",
      "out_raster.SetProjection(proj_list[0])\n",
      "out_raster.SetGeoTransform(geotrans_list[0])\n",
      "\n",
      "#write raster bands through arrays\n",
      "\n",
      "for i in range(NBANDS):\n",
      "    set_band = tif_list[i].GetRasterBand(1)\n",
      "    raster_array = set_band.ReadAsArray()\n",
      "    to_band = out_raster.GetRasterBand(i+1)\n",
      "    to_band.WriteArray(raster_array)\n",
      "\n",
      "rs_cols = out_raster.RasterXSize\n",
      "rs_rows = out_raster.RasterYSize\n",
      "rs_bands = out_raster.RasterCount\n",
      "rs_cell = out_raster.GetGeoTransform()\n",
      "\n",
      "print str(rs_cols) + ' X ' + str(rs_rows)\n",
      "print rs_bands\n",
      "print out_raster.GetProjection()\n",
      "print rs_cell\n",
      "\n",
      "end_time = time.time()\n",
      "print 'Total time = ' + str(end_time - start_time) + '\\n'\n",
      "\n",
      "    "
     ],
     "language": "python",
     "metadata": {},
     "outputs": []
    },
    {
     "cell_type": "code",
     "collapsed": false,
     "input": [
      "band1 = out_raster.GetRasterBand(1)\n"
     ],
     "language": "python",
     "metadata": {},
     "outputs": []
    },
    {
     "cell_type": "code",
     "collapsed": false,
     "input": [],
     "language": "python",
     "metadata": {},
     "outputs": []
    }
   ],
   "metadata": {}
  }
 ]
}